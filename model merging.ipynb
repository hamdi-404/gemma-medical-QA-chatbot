{
 "cells": [
  {
   "metadata": {
    "ExecuteTime": {
     "end_time": "2025-10-28T10:07:42.214411Z",
     "start_time": "2025-10-28T10:07:38.931964Z"
    }
   },
   "cell_type": "code",
   "source": [
    "from transformers import AutoModelForCausalLM, AutoTokenizer\n",
    "from peft import PeftModel\n",
    "\n",
    "from huggingface_hub import login\n",
    "import os\n",
    "os.environ[\"HF_TOKEN\"] = \"HF_TOKEN\""
   ],
   "id": "e28002a534912268",
   "outputs": [
    {
     "name": "stderr",
     "output_type": "stream",
     "text": [
      "C:\\Users\\hamdy\\AppData\\Local\\Programs\\Python\\Python312\\Lib\\site-packages\\tqdm\\auto.py:21: TqdmWarning: IProgress not found. Please update jupyter and ipywidgets. See https://ipywidgets.readthedocs.io/en/stable/user_install.html\n",
      "  from .autonotebook import tqdm as notebook_tqdm\n"
     ]
    }
   ],
   "execution_count": 1
  },
  {
   "metadata": {
    "ExecuteTime": {
     "end_time": "2025-10-28T09:41:20.361348Z",
     "start_time": "2025-10-28T09:41:20.358803Z"
    }
   },
   "cell_type": "code",
   "source": [
    "base_model = \"google/gemma-3-1b-it\"\n",
    "peft_model_path = \"gemma_medical_qa/checkpoint-2188\"  # best checkpoint"
   ],
   "id": "57cf180a4e4b52e5",
   "outputs": [],
   "execution_count": 2
  },
  {
   "metadata": {
    "ExecuteTime": {
     "end_time": "2025-10-28T09:41:21.942675Z",
     "start_time": "2025-10-28T09:41:20.372146Z"
    }
   },
   "cell_type": "code",
   "source": [
    "# Load base + adapter\n",
    "model = AutoModelForCausalLM.from_pretrained(base_model, torch_dtype=\"auto\", device_map=\"auto\")\n",
    "model = PeftModel.from_pretrained(model, peft_model_path)\n",
    "model = model.merge_and_unload()  # merges LoRA weights into base"
   ],
   "id": "c91aa02f4b3d38b7",
   "outputs": [
    {
     "name": "stderr",
     "output_type": "stream",
     "text": [
      "`torch_dtype` is deprecated! Use `dtype` instead!\n"
     ]
    }
   ],
   "execution_count": 3
  },
  {
   "metadata": {
    "ExecuteTime": {
     "end_time": "2025-10-28T09:41:29.216759Z",
     "start_time": "2025-10-28T09:41:24.927307Z"
    }
   },
   "cell_type": "code",
   "source": [
    "# Save full merged model\n",
    "merged_path = \"gemma_medical_merged\"\n",
    "model.save_pretrained(merged_path)\n",
    "tokenizer = AutoTokenizer.from_pretrained(base_model)\n",
    "tokenizer.save_pretrained(merged_path)\n",
    "\n",
    "print(f\"✅ Model merged and saved at: {merged_path}\")\n"
   ],
   "id": "959f386c152dc2f4",
   "outputs": [
    {
     "name": "stdout",
     "output_type": "stream",
     "text": [
      "✅ Model merged and saved at: gemma_medical_merged\n"
     ]
    }
   ],
   "execution_count": 4
  },
  {
   "metadata": {
    "ExecuteTime": {
     "end_time": "2025-10-28T11:16:46.111011Z",
     "start_time": "2025-10-28T11:16:38.556770Z"
    }
   },
   "cell_type": "code",
   "source": [
    "from transformers import pipeline\n",
    "import torch\n",
    "\n",
    "device = 0 if torch.cuda.is_available() else \"cpu\"\n",
    "print(f\"🔥 Using device: {device}\")\n",
    "\n",
    "pipe = pipeline(\n",
    "    \"text-generation\",\n",
    "    model=\"gemma_medical_merged\",\n",
    "    tokenizer=\"gemma_medical_merged\",\n",
    "    device=device,             # explicitly set GPU\n",
    "    model_kwargs={\"torch_dtype\": torch.bfloat16 if torch.cuda.is_available() else torch.float32}\n",
    ")\n",
    "\n",
    "prompt = \"\"\"Question: What are the symptoms of vitamin D deficiency?\n",
    "Answer:\"\"\"\n",
    "\n",
    "output = pipe(prompt, max_new_tokens=150, temperature=0.7, top_p=0.9)\n",
    "print(output[0][\"generated_text\"])\n"
   ],
   "id": "60b6c4d28bd6a8fe",
   "outputs": [
    {
     "name": "stdout",
     "output_type": "stream",
     "text": [
      "🔥 Using device: 0\n"
     ]
    },
    {
     "name": "stderr",
     "output_type": "stream",
     "text": [
      "Device set to use cuda:0\n"
     ]
    },
    {
     "name": "stdout",
     "output_type": "stream",
     "text": [
      "Question: What are the symptoms of vitamin D deficiency?\n",
      "Answer: Vitamin D deficiency can cause a wide range of symptoms, including:\n",
      "* Bone pain\n",
      "* Muscle weakness\n",
      "* Impaired growth\n",
      "* Impaired immunity\n",
      "* High blood pressure\n",
      "* Increased risk of heart disease\n",
      "* Increased risk of stroke\n",
      "\n",
      "It is important to consult a healthcare provider if you are concerned about your vitamin D levels or if you have symptoms of vitamin D deficiency.\n",
      "\n",
      "Disclaimer: This information is intended for general knowledge and informational purposes only and does not constitute medical advice. It is essential to consult with a qualified healthcare provider for any health concerns or before making any decisions related to your health or treatment.\n"
     ]
    }
   ],
   "execution_count": 3
  },
  {
   "metadata": {},
   "cell_type": "code",
   "outputs": [],
   "execution_count": null,
   "source": "",
   "id": "cbe10ba0fee4f11d"
  }
 ],
 "metadata": {
  "kernelspec": {
   "name": "python3",
   "language": "python",
   "display_name": "Python 3 (ipykernel)"
  }
 },
 "nbformat": 4,
 "nbformat_minor": 5
}
